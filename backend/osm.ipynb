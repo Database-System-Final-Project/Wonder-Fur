{
 "cells": [
  {
   "cell_type": "markdown",
   "metadata": {},
   "source": [
    "## 顯示 OSM 地圖 (folium)"
   ]
  },
  {
   "cell_type": "code",
   "execution_count": 4,
   "metadata": {},
   "outputs": [],
   "source": [
    "from geopy.geocoders import Nominatim\n",
    "import folium\n",
    "from folium.plugins import LocateControl  # 引入 LocateControl\n"
   ]
  },
  {
   "cell_type": "code",
   "execution_count": null,
   "metadata": {},
   "outputs": [],
   "source": [
    "# 初始化地理編碼器\n",
    "geolocator = Nominatim(user_agent=\"geo_test_app\")\n",
    "\n",
    "# 查詢起始地點: 國立臺灣師範大學\n",
    "start_location = geolocator.geocode(\"國立臺灣師範大學\")\n",
    "\n",
    "# 檢查是否找到地點\n",
    "if start_location:\n",
    "    print(f\"起始地點: {start_location.address}\")\n",
    "    print(f\"經緯度: ({start_location.latitude}, {start_location.longitude})\")\n",
    "\n",
    "    # 將地圖以起始地點為中心建立\n",
    "    map_osm = folium.Map(\n",
    "        location=[start_location.latitude, start_location.longitude],\n",
    "        zoom_start=15\n",
    "    )\n",
    "\n",
    "    # 在地圖上標示起始地點\n",
    "    folium.Marker(\n",
    "        [start_location.latitude, start_location.longitude],\n",
    "        popup=\"國立臺灣師範大學\",\n",
    "        tooltip=\"起始地點\"\n",
    "    ).add_to(map_osm)\n",
    "\n",
    "    # 新增定位目前位置的按鈕\n",
    "    LocateControl().add_to(map_osm)\n",
    "\n",
    "    # 儲存地圖為 HTML 檔案\n",
    "    map_file = \"ntnu.html\"\n",
    "    map_osm.save(map_file)\n",
    "    print(f\"地圖已儲存為 {map_file}，請用瀏覽器開啟查看。\")\n",
    "else:\n",
    "    print(\"無法找到地點，請確認地址。\")\n"
   ]
  },
  {
   "cell_type": "markdown",
   "metadata": {},
   "source": [
    "### 寵物友善餐廳"
   ]
  },
  {
   "cell_type": "code",
   "execution_count": 6,
   "metadata": {},
   "outputs": [],
   "source": [
    "import json\n",
    "import pandas as pd"
   ]
  },
  {
   "cell_type": "code",
   "execution_count": 9,
   "metadata": {},
   "outputs": [
    {
     "name": "stdout",
     "output_type": "stream",
     "text": [
      "查詢成功: 賈福廚房 JFULL (台北市大安區復興南路二段) -> (25.03194895, 121.5421290667586)\n",
      "查詢成功: 光一肆號 (台北市大安區新生南路三段) -> (25.0233477, 121.53530431351457)\n",
      "查詢成功: Toast Chat (台北市大安區光復南路) -> (25.04320294998675, 121.5576586083291)\n",
      "查詢成功: Become早午餐 (台北市大安區信義路四段) -> (25.033105958874025, 121.55339420804869)\n",
      "查詢成功: 貳樓咖啡（敦南店） (台北市大安區敦化南路二段) -> (25.0333251, 121.54855505)\n",
      "查詢成功: 小春日和 (台北市大安區信義路三段) -> (25.033355738654592, 121.54068749946612)\n",
      "查詢成功: Mianto 艾果豐 (台北市大安區仁愛路) -> (25.038599, 121.535631)\n",
      "查詢失敗: PS Bubu 金屋藏車食堂 (台北市大安區溫州街26號)\n",
      "查詢成功: Luigi 路易奇電力公司 (台北市大安區復興南路一段) -> (25.04333128436147, 121.54389343580793)\n",
      "查詢成功: 舒服生活 Truffles Living (台北市大安區文昌街) -> (25.032800438292195, 121.55077794534427)\n",
      "查詢成功: 兔 Dreams 寵物餐廳 (台北市大安區新生南路一段) -> (25.04231625, 121.53291585)\n",
      "查詢成功: 慵懶咖啡 Lazzy Cafe (台北市大安區新生南路二段) -> (25.029748599999998, 121.53272466713736)\n",
      "查詢成功: The Antipodean (台北市大安區復興南路一段) -> (25.04333128436147, 121.54389343580793)\n",
      "地址經緯度資料已保存到 pet_friendly_restaurants_coordinates.csv\n"
     ]
    }
   ],
   "source": [
    "# 讀取 JSON 資料\n",
    "file_path = \"pet_friendly_restaurants.json\"\n",
    "with open(file_path, \"r\", encoding=\"utf-8\") as file:\n",
    "    data = json.load(file)\n",
    "\n",
    "# 初始化地理編碼器\n",
    "geolocator = Nominatim(user_agent=\"geo_test_app\")\n",
    "\n",
    "# 儲存地址與經緯度結果\n",
    "locations = []\n",
    "\n",
    "# 查詢每個地址的經緯度\n",
    "for item in data:\n",
    "    name = item[\"Restaurant Name\"]\n",
    "    address = item[\"Address\"]\n",
    "    try:\n",
    "        # 使用地址進行地理查詢\n",
    "        location = geolocator.geocode(address)\n",
    "        if location:\n",
    "            locations.append({\n",
    "                \"name\": name,\n",
    "                \"address\": address,\n",
    "                \"latitude\": location.latitude,\n",
    "                \"longitude\": location.longitude\n",
    "            })\n",
    "            print(f\"查詢成功: {name} ({address}) -> ({location.latitude}, {location.longitude})\")\n",
    "        else:\n",
    "            print(f\"查詢失敗: {name} ({address})\")\n",
    "            locations.append({\"name\": name, \"address\": address, \"latitude\": None, \"longitude\": None})\n",
    "    except Exception as e:\n",
    "        print(f\"查詢時出現錯誤: {name} ({address}), 錯誤訊息: {e}\")\n",
    "        locations.append({\"name\": name, \"address\": address, \"latitude\": None, \"longitude\": None})\n",
    "\n",
    "# 將結果保存到 DataFrame\n",
    "locations_df = pd.DataFrame(locations)\n",
    "\n",
    "# 儲存結果為 CSV 檔案\n",
    "output_csv = \"pet_friendly_restaurants_coordinates.csv\"\n",
    "locations_df.to_csv(output_csv, index=False, encoding=\"utf-8\")\n",
    "print(f\"地址經緯度資料已保存到 {output_csv}\")\n"
   ]
  },
  {
   "cell_type": "code",
   "execution_count": 11,
   "metadata": {},
   "outputs": [
    {
     "name": "stdout",
     "output_type": "stream",
     "text": [
      "地圖已保存為 pet_friendly_restaurants_map.html，請用瀏覽器開啟查看。\n"
     ]
    }
   ],
   "source": [
    "\n",
    "# 繪製地圖\n",
    "if not locations_df.empty:\n",
    "    # 建立地圖，中心為所有地址平均座標\n",
    "    valid_locations = locations_df.dropna(subset=[\"latitude\", \"longitude\"])\n",
    "    if not valid_locations.empty:\n",
    "        center_lat = valid_locations[\"latitude\"].mean()\n",
    "        center_lon = valid_locations[\"longitude\"].mean()\n",
    "        map_osm = folium.Map(location=[center_lat, center_lon], zoom_start=14)\n",
    "\n",
    "        # 將所有地址標記到地圖\n",
    "        for _, row in valid_locations.iterrows():\n",
    "            folium.Marker(\n",
    "                location=[row[\"latitude\"], row[\"longitude\"]],\n",
    "                popup=row[\"name\"],\n",
    "                tooltip=row[\"address\"]\n",
    "            ).add_to(map_osm)\n",
    "\n",
    "        # 新增「定位目前位置」按鈕\n",
    "        LocateControl().add_to(map_osm)\n",
    "\n",
    "        # 儲存地圖為 HTML 檔案\n",
    "        map_html = \"pet_friendly_restaurants_map.html\"\n",
    "        map_osm.save(map_html)\n",
    "        print(f\"地圖已保存為 {map_html}，請用瀏覽器開啟查看。\")\n",
    "    else:\n",
    "        print(\"無有效地點資料，無法生成地圖。\")\n",
    "else:\n",
    "    print(\"未能生成有效的地址資料，請檢查輸入檔案。\")\n"
   ]
  }
 ],
 "metadata": {
  "kernelspec": {
   "display_name": "Python 3",
   "language": "python",
   "name": "python3"
  },
  "language_info": {
   "codemirror_mode": {
    "name": "ipython",
    "version": 3
   },
   "file_extension": ".py",
   "mimetype": "text/x-python",
   "name": "python",
   "nbconvert_exporter": "python",
   "pygments_lexer": "ipython3",
   "version": "3.12.5"
  }
 },
 "nbformat": 4,
 "nbformat_minor": 2
}
